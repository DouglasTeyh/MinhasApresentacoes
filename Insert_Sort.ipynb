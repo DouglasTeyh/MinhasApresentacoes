{
  "nbformat": 4,
  "nbformat_minor": 0,
  "metadata": {
    "colab": {
      "provenance": [],
      "authorship_tag": "ABX9TyO+6pqXYd1oEJa71L0hXhid",
      "include_colab_link": true
    },
    "kernelspec": {
      "name": "python3",
      "display_name": "Python 3"
    },
    "language_info": {
      "name": "python"
    }
  },
  "cells": [
    {
      "cell_type": "markdown",
      "metadata": {
        "id": "view-in-github",
        "colab_type": "text"
      },
      "source": [
        "<a href=\"https://colab.research.google.com/github/DouglasTeyh/MinhasApresentacoes/blob/main/Insert_Sort.ipynb\" target=\"_parent\"><img src=\"https://colab.research.google.com/assets/colab-badge.svg\" alt=\"Open In Colab\"/></a>"
      ]
    },
    {
      "cell_type": "markdown",
      "source": [
        "# **Algoritmo** de **Ordenamento Insert Sort**"
      ],
      "metadata": {
        "id": "7uebu3q0yuOR"
      }
    },
    {
      "cell_type": "markdown",
      "source": [
        "O Insert Sort é um algoritmo de ordenação simples e eficiente para listas pequenas. Ele funciona de forma semelhante a como organizamos cartas em um baralho, inserindo cada elemento em sua posição correta dentro de uma lista ordenada.\n",
        "\n",
        "---\n",
        "\n",
        "\n",
        "##**Características:**\n",
        "\n",
        "1. **Complexidade:**\n",
        "* **Melhor caso:** O(n) (lista já ordenada)\n",
        "* **Pior caso:** O(n^2) (lista em ordem decrescente)\n",
        "\n",
        "\n",
        "2. **Estável:** Mantém a ordem relativa de elementos iguais.\n",
        "3. **Ordenação in-place:** Não requer espaço extra significativo.\n",
        "\n",
        "\n",
        "\n",
        "---\n",
        "\n",
        "\n",
        "## **Funcionamento**\n",
        "1. Percorre a lista **a partir do segundo elemento.**\n",
        "2. Compara o **elemento atual** com os **anteriores.**\n",
        "3. Insere o **elemento atual** na **posição correta** dentro da porção ordenada da lista."
      ],
      "metadata": {
        "id": "7vYz2rXIv_Z1"
      }
    },
    {
      "cell_type": "markdown",
      "source": [
        "# Implementação em Python"
      ],
      "metadata": {
        "id": "k1XpDKEZyIph"
      }
    },
    {
      "cell_type": "code",
      "source": [
        "def insert_sort(lista):\n",
        "    for i in range(1, len(lista)):\n",
        "        elemento = lista[i]\n",
        "        j = i - 1\n",
        "        while j >= 0 and lista[j] > elemento:\n",
        "            lista[j + 1] = lista[j]\n",
        "            j -= 1\n",
        "        lista[j + 1] = elemento"
      ],
      "metadata": {
        "id": "FWBNIr12yOOJ"
      },
      "execution_count": null,
      "outputs": []
    },
    {
      "cell_type": "code",
      "source": [
        "lista = [5, 3, 4, 1, 2]\n",
        "insert_sort(lista)\n",
        "print(\"Lista ordenada:\", lista)"
      ],
      "metadata": {
        "id": "j0wShSSOygI5"
      },
      "execution_count": null,
      "outputs": []
    },
    {
      "cell_type": "markdown",
      "source": [
        "#  **Alteração do Selection Sort (iterativo e recursivo)** - do repositório do GitHub."
      ],
      "metadata": {
        "id": "RSQnWOl50aVX"
      }
    },
    {
      "cell_type": "markdown",
      "source": [
        "##**Selection Sort Iterativo**:"
      ],
      "metadata": {
        "id": "z9liymru05l3"
      }
    },
    {
      "cell_type": "code",
      "source": [
        "def selection_sort_iterativo(arr):\n",
        "    n = len(arr)\n",
        "    for i in range(n - 1, 0, -1):  # Itera do final para o início\n",
        "        max_idx = 0  # Índice do maior elemento\n",
        "        for j in range(1, i + 1):  # Busca o maior elemento até a posição i\n",
        "            if arr[j] > arr[max_idx]:\n",
        "                max_idx = j\n",
        "        # Troca o maior elemento com o elemento na posição i\n",
        "        arr[i], arr[max_idx] = arr[max_idx], arr[i]\n"
      ],
      "metadata": {
        "id": "PpVh2njZ0vqX"
      },
      "execution_count": null,
      "outputs": []
    },
    {
      "cell_type": "markdown",
      "source": [
        "##**Selection Sort Recursivo**:"
      ],
      "metadata": {
        "id": "kOQinopF1Bw-"
      }
    },
    {
      "cell_type": "code",
      "source": [
        "def selection_sort_recursivo(arr, n=None):\n",
        "    if n is None:\n",
        "        n = len(arr)\n",
        "\n",
        "    if n <= 1:  # Caso base: lista com um elemento, obviamente já está ordenada\n",
        "        return\n",
        "\n",
        "    max_idx = 0\n",
        "    for i in range(1, n):  # Busca o maior elemento até a posição n-1\n",
        "        if arr[i] > arr[max_idx]:\n",
        "            max_idx = i\n",
        "\n",
        "    # Troca o maior elemento com o último elemento da sublista\n",
        "    arr[n - 1], arr[max_idx] = arr[max_idx], arr[n - 1]\n",
        "\n",
        "    # Chamada recursiva para o restante da lista\n",
        "    selection_sort_recursivo(arr, n - 1)\n"
      ],
      "metadata": {
        "id": "_1JEUEwe1K-H"
      },
      "execution_count": null,
      "outputs": []
    },
    {
      "cell_type": "markdown",
      "source": [
        "##**Teste do Código**:"
      ],
      "metadata": {
        "id": "bAF7zwFx2K-1"
      }
    },
    {
      "cell_type": "code",
      "source": [
        "# Teste do Codigo de Selection Sort ITERATIVO\n",
        "lista = [5, 3, 8, 6, 2]\n",
        "selection_sort_iterativo(lista)\n",
        "print(\"Ordenado (iterativo):\", lista)\n",
        "\n",
        "# Teste do Código de Selection Sort RECURSIVO\n",
        "lista = [5, 3, 8, 6, 2]\n",
        "selection_sort_recursivo(lista)\n",
        "print(\"Ordenado (recursivo):\", lista)\n"
      ],
      "metadata": {
        "id": "NKEHbTf42Rd2"
      },
      "execution_count": null,
      "outputs": []
    }
  ]
}